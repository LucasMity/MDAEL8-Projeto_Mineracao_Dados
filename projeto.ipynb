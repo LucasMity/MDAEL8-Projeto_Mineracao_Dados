{
 "cells": [
  {
   "attachments": {},
   "cell_type": "markdown",
   "metadata": {},
   "source": [
    "# Seleção e pré-processamento de dados:\n",
    "\n",
    "* **Base de dados**: [\"Loan Data Set\"](https://www.kaggle.com/datasets/mirzahasnine/loan-data-set?resource=download);\n",
    "* **Problema a ser investigado**: Aprovação ou não aprovação de empréstimo para pessoas de acordo com seus dados;\n",
    "* **Número de amostras**: 614;\n",
    "* **Número de atributos**: 12;\n",
    "* **Tipos de atributos**: Categóricos e numéricos;\n",
    "* **Valores ausentes**: Sim."
   ]
  },
  {
   "cell_type": "code",
   "execution_count": 1,
   "metadata": {},
   "outputs": [],
   "source": [
    "#Bibliotecas:\n",
    "import pandas as pd\n",
    "import numpy as np"
   ]
  },
  {
   "attachments": {},
   "cell_type": "markdown",
   "metadata": {},
   "source": [
    "### Limpeza de dados"
   ]
  },
  {
   "attachments": {},
   "cell_type": "markdown",
   "metadata": {},
   "source": [
    "* Leitura da base de dados"
   ]
  },
  {
   "cell_type": "code",
   "execution_count": 5,
   "metadata": {},
   "outputs": [],
   "source": [
    "def ShowInformationDataFrame(df, message=\"\"):\n",
    "    print(message+\"\\n\")\n",
    "    # Imprime as 10 primeiras linhas do arquivo\n",
    "    print(\"PRIMEIRAS 10 LINHAS\\n\")\n",
    "    print(df.head(10))\n",
    "    print(\"\\n\")\n",
    "    # Imprime informações sobre os dados\n",
    "    print(\"INFORMAÇÕES GERAIS DOS DADOS\\n\")\n",
    "    print(df.info())\n",
    "    print(\"\\n\")\n",
    "    # Imprime uma analise descritiva sobre os dados\n",
    "    print(\"DESCRIÇÃO DOS DADOS\\n\")\n",
    "    print(df.describe())\n",
    "    print(\"\\n\")\n",
    "    # Imprime a quantidade de valores faltantes por coluna\n",
    "    print(\"VALORES FALTANTES\\n\")\n",
    "    print(df.isnull().sum())\n",
    "    print(\"\\n\") "
   ]
  },
  {
   "cell_type": "code",
   "execution_count": 9,
   "metadata": {},
   "outputs": [
    {
     "name": "stdout",
     "output_type": "stream",
     "text": [
      "DataFrame\n",
      "\n",
      "PRIMEIRAS 10 LINHAS\n",
      "\n",
      "  Gender Married Dependents     Education Self_Employed  Applicant_Income  \\\n",
      "0   Male      No          0  Not Graduate            No            604500   \n",
      "1   Male      No          0      Graduate            No            584900   \n",
      "2   Male     Yes          1      Graduate            No            458300   \n",
      "3   Male     Yes          0      Graduate           Yes            300000   \n",
      "4   Male     Yes          0  Not Graduate            No            258300   \n",
      "5   Male      No          0      Graduate            No            600000   \n",
      "6   Male     Yes          2      Graduate           Yes            541700   \n",
      "7   Male     Yes          0  Not Graduate            No            233300   \n",
      "8   Male     Yes         3+      Graduate            No            303600   \n",
      "9   Male     Yes          2      Graduate            No            400600   \n",
      "\n",
      "   Coapplicant_Income  Loan_Amount   Term  Credit_History       Area Status  \n",
      "0                 0.0     11500000  360.0             0.0      Rural      N  \n",
      "1                 0.0     15000000  360.0             1.0      Urban      Y  \n",
      "2            150800.0     12800000  360.0             1.0      Rural      N  \n",
      "3                 0.0      6600000  360.0             1.0      Urban      Y  \n",
      "4            235800.0     12000000  360.0             1.0      Urban      Y  \n",
      "5                 0.0     14100000  360.0             1.0      Urban      Y  \n",
      "6            419600.0     26700000  360.0             1.0      Urban      Y  \n",
      "7            151600.0      9500000  360.0             1.0      Urban      Y  \n",
      "8            250400.0     15800000  360.0             0.0  Semiurban      N  \n",
      "9            152600.0     16800000  360.0             1.0      Urban      Y  \n",
      "\n",
      "\n",
      "INFORMAÇÕES GERAIS DOS DADOS\n",
      "\n",
      "<class 'pandas.core.frame.DataFrame'>\n",
      "RangeIndex: 614 entries, 0 to 613\n",
      "Data columns (total 12 columns):\n",
      " #   Column              Non-Null Count  Dtype  \n",
      "---  ------              --------------  -----  \n",
      " 0   Gender              601 non-null    object \n",
      " 1   Married             611 non-null    object \n",
      " 2   Dependents          599 non-null    object \n",
      " 3   Education           614 non-null    object \n",
      " 4   Self_Employed       582 non-null    object \n",
      " 5   Applicant_Income    614 non-null    int64  \n",
      " 6   Coapplicant_Income  614 non-null    float64\n",
      " 7   Loan_Amount         614 non-null    int64  \n",
      " 8   Term                600 non-null    float64\n",
      " 9   Credit_History      564 non-null    float64\n",
      " 10  Area                614 non-null    object \n",
      " 11  Status              614 non-null    object \n",
      "dtypes: float64(3), int64(2), object(7)\n",
      "memory usage: 57.7+ KB\n",
      "None\n",
      "\n",
      "\n",
      "DESCRIÇÃO DOS DADOS\n",
      "\n",
      "       Applicant_Income  Coapplicant_Income   Loan_Amount       Term  \\\n",
      "count      6.140000e+02        6.140000e+02  6.140000e+02  600.00000   \n",
      "mean       5.403459e+05        1.621246e+05  1.414104e+07  342.00000   \n",
      "std        6.109042e+05        2.926248e+05  8.815682e+06   65.12041   \n",
      "min        1.500000e+04        0.000000e+00  0.000000e+00   12.00000   \n",
      "25%        2.877500e+05        0.000000e+00  9.800000e+06  360.00000   \n",
      "50%        3.812500e+05        1.188500e+05  1.250000e+07  360.00000   \n",
      "75%        5.795000e+05        2.297250e+05  1.647500e+07  360.00000   \n",
      "max        8.100000e+06        4.166700e+06  7.000000e+07  480.00000   \n",
      "\n",
      "       Credit_History  \n",
      "count      564.000000  \n",
      "mean         0.842199  \n",
      "std          0.364878  \n",
      "min          0.000000  \n",
      "25%          1.000000  \n",
      "50%          1.000000  \n",
      "75%          1.000000  \n",
      "max          1.000000  \n",
      "\n",
      "\n",
      "VALORES FALTANTES\n",
      "\n",
      "Gender                13\n",
      "Married                3\n",
      "Dependents            15\n",
      "Education              0\n",
      "Self_Employed         32\n",
      "Applicant_Income       0\n",
      "Coapplicant_Income     0\n",
      "Loan_Amount            0\n",
      "Term                  14\n",
      "Credit_History        50\n",
      "Area                   0\n",
      "Status                 0\n",
      "dtype: int64\n",
      "\n",
      "\n"
     ]
    }
   ],
   "source": [
    "input_file = './0-Datasets/loan_train.csv'\n",
    "names = ['Gender', 'Married', 'Dependents', 'Education', 'Self_Employed', 'Applicant_Income', 'Coapplicant_Income', 'Loan_Amount', 'Term','Credit_History', 'Area', 'Status']\n",
    "features = ['Gender', 'Married', 'Dependents', 'Education', 'Self_Employed', 'Applicant_Income', 'Coapplicant_Income', 'Loan_Amount', 'Term','Credit_History', 'Area', 'Status']\n",
    "target = 'Status'\n",
    "df = pd.read_csv(input_file,        # Nome do arquivo com dados\n",
    "                names = names,      # Nome das colunas \n",
    "                usecols = features, # Define as colunas que serão  utilizadas\n",
    "                na_values='')       # Define que ? será considerado valores ausentes\n",
    "\n",
    "ShowInformationDataFrame(df, \"DataFrame\")"
   ]
  },
  {
   "attachments": {},
   "cell_type": "markdown",
   "metadata": {},
   "source": [
    "* Tratamento dos valores faltantes\n",
    "  * método de DELETAR os objetos que possuem valores faltantes"
   ]
  },
  {
   "cell_type": "code",
   "execution_count": 10,
   "metadata": {},
   "outputs": [
    {
     "name": "stdout",
     "output_type": "stream",
     "text": [
      "Index(['Gender', 'Married', 'Dependents', 'Self_Employed', 'Term',\n",
      "       'Credit_History'],\n",
      "      dtype='object')\n",
      "Dataframe UpdateMissingValues\n",
      "\n",
      "PRIMEIRAS 10 LINHAS\n",
      "\n",
      "  Gender Married Dependents     Education Self_Employed  Applicant_Income  \\\n",
      "0   Male      No          0  Not Graduate            No            604500   \n",
      "1   Male      No          0      Graduate            No            584900   \n",
      "2   Male     Yes          1      Graduate            No            458300   \n",
      "3   Male     Yes          0      Graduate           Yes            300000   \n",
      "4   Male     Yes          0  Not Graduate            No            258300   \n",
      "5   Male      No          0      Graduate            No            600000   \n",
      "6   Male     Yes          2      Graduate           Yes            541700   \n",
      "7   Male     Yes          0  Not Graduate            No            233300   \n",
      "8   Male     Yes         3+      Graduate            No            303600   \n",
      "9   Male     Yes          2      Graduate            No            400600   \n",
      "\n",
      "   Coapplicant_Income  Loan_Amount   Term  Credit_History       Area Status  \n",
      "0                 0.0     11500000  360.0             0.0      Rural      N  \n",
      "1                 0.0     15000000  360.0             1.0      Urban      Y  \n",
      "2            150800.0     12800000  360.0             1.0      Rural      N  \n",
      "3                 0.0      6600000  360.0             1.0      Urban      Y  \n",
      "4            235800.0     12000000  360.0             1.0      Urban      Y  \n",
      "5                 0.0     14100000  360.0             1.0      Urban      Y  \n",
      "6            419600.0     26700000  360.0             1.0      Urban      Y  \n",
      "7            151600.0      9500000  360.0             1.0      Urban      Y  \n",
      "8            250400.0     15800000  360.0             0.0  Semiurban      N  \n",
      "9            152600.0     16800000  360.0             1.0      Urban      Y  \n",
      "\n",
      "\n",
      "INFORMAÇÕES GERAIS DOS DADOS\n",
      "\n",
      "<class 'pandas.core.frame.DataFrame'>\n",
      "Int64Index: 499 entries, 0 to 613\n",
      "Data columns (total 12 columns):\n",
      " #   Column              Non-Null Count  Dtype  \n",
      "---  ------              --------------  -----  \n",
      " 0   Gender              499 non-null    object \n",
      " 1   Married             499 non-null    object \n",
      " 2   Dependents          499 non-null    object \n",
      " 3   Education           499 non-null    object \n",
      " 4   Self_Employed       499 non-null    object \n",
      " 5   Applicant_Income    499 non-null    int64  \n",
      " 6   Coapplicant_Income  499 non-null    float64\n",
      " 7   Loan_Amount         499 non-null    int64  \n",
      " 8   Term                499 non-null    float64\n",
      " 9   Credit_History      499 non-null    float64\n",
      " 10  Area                499 non-null    object \n",
      " 11  Status              499 non-null    object \n",
      "dtypes: float64(3), int64(2), object(7)\n",
      "memory usage: 50.7+ KB\n",
      "None\n",
      "\n",
      "\n",
      "DESCRIÇÃO DOS DADOS\n",
      "\n",
      "       Applicant_Income  Coapplicant_Income   Loan_Amount        Term  \\\n",
      "count      4.990000e+02        4.990000e+02  4.990000e+02  499.000000   \n",
      "mean       5.336128e+05        1.566996e+05  1.395251e+07  342.012024   \n",
      "std        5.618157e+05        2.580955e+05  8.345237e+06   64.860368   \n",
      "min        1.500000e+04        0.000000e+00  0.000000e+00   36.000000   \n",
      "25%        2.885500e+05        0.000000e+00  9.800000e+06  360.000000   \n",
      "50%        3.859000e+05        1.086000e+05  1.260000e+07  360.000000   \n",
      "75%        5.825000e+05        2.251500e+05  1.665000e+07  360.000000   \n",
      "max        8.100000e+06        3.383700e+06  6.000000e+07  480.000000   \n",
      "\n",
      "       Credit_History  \n",
      "count      499.000000  \n",
      "mean         0.851703  \n",
      "std          0.355750  \n",
      "min          0.000000  \n",
      "25%          1.000000  \n",
      "50%          1.000000  \n",
      "75%          1.000000  \n",
      "max          1.000000  \n",
      "\n",
      "\n",
      "VALORES FALTANTES\n",
      "\n",
      "Gender                0\n",
      "Married               0\n",
      "Dependents            0\n",
      "Education             0\n",
      "Self_Employed         0\n",
      "Applicant_Income      0\n",
      "Coapplicant_Income    0\n",
      "Loan_Amount           0\n",
      "Term                  0\n",
      "Credit_History        0\n",
      "Area                  0\n",
      "Status                0\n",
      "dtype: int64\n",
      "\n",
      "\n"
     ]
    }
   ],
   "source": [
    "def UpdateMissingValues(df, column, method=\"mode\", number=0):\n",
    "    if method == 'number':\n",
    "        # Substituindo valores ausentes por um número\n",
    "        df[column].fillna(number, inplace=True)\n",
    "    elif method == 'median':\n",
    "        # Substituindo valores ausentes pela mediana \n",
    "        median = df[column].median()\n",
    "        df[column].fillna(median, inplace=True)\n",
    "    elif method == 'mean':\n",
    "        # Substituindo valores ausentes pela média\n",
    "        mean = df[column].mean()\n",
    "        df[column].fillna(mean, inplace=True)\n",
    "    elif method == 'mode':\n",
    "        # Substituindo valores ausentes pela moda\n",
    "        mode = df[column].mode()[0]\n",
    "        df[column].fillna(mode, inplace=True)\n",
    "    elif method == 'delete':\n",
    "        df.dropna(axis=0, how='any', subset=column, inplace=True)\n",
    "\n",
    "columns_missing_value = df.columns[df.isnull().any()]\n",
    "print(columns_missing_value)\n",
    "method = 'delete' # number or median or mean or mode\n",
    "    \n",
    "for c in columns_missing_value:\n",
    "    UpdateMissingValues(df, c, method)\n",
    "    \n",
    "ShowInformationDataFrame(df,\"Dataframe UpdateMissingValues\")"
   ]
  },
  {
   "attachments": {},
   "cell_type": "markdown",
   "metadata": {},
   "source": [
    "* Conversão dos atributos categóricos para numéricos"
   ]
  },
  {
   "cell_type": "code",
   "execution_count": 11,
   "metadata": {},
   "outputs": [
    {
     "name": "stdout",
     "output_type": "stream",
     "text": [
      "Dataframe numérico\n",
      "\n",
      "PRIMEIRAS 10 LINHAS\n",
      "\n",
      "   Gender  Married  Dependents  Education  Self_Employed  Applicant_Income  \\\n",
      "0       0        0           0          0              0            604500   \n",
      "1       0        0           0          1              0            584900   \n",
      "2       0        1           1          1              0            458300   \n",
      "3       0        1           0          1              1            300000   \n",
      "4       0        1           0          0              0            258300   \n",
      "5       0        0           0          1              0            600000   \n",
      "6       0        1           2          1              1            541700   \n",
      "7       0        1           0          0              0            233300   \n",
      "8       0        1           3          1              0            303600   \n",
      "9       0        1           2          1              0            400600   \n",
      "\n",
      "   Coapplicant_Income  Loan_Amount   Term  Credit_History  Area  Status  \n",
      "0                 0.0     11500000  360.0             0.0     0       0  \n",
      "1                 0.0     15000000  360.0             1.0     1       1  \n",
      "2            150800.0     12800000  360.0             1.0     0       0  \n",
      "3                 0.0      6600000  360.0             1.0     1       1  \n",
      "4            235800.0     12000000  360.0             1.0     1       1  \n",
      "5                 0.0     14100000  360.0             1.0     1       1  \n",
      "6            419600.0     26700000  360.0             1.0     1       1  \n",
      "7            151600.0      9500000  360.0             1.0     1       1  \n",
      "8            250400.0     15800000  360.0             0.0     2       0  \n",
      "9            152600.0     16800000  360.0             1.0     1       1  \n",
      "\n",
      "\n",
      "INFORMAÇÕES GERAIS DOS DADOS\n",
      "\n",
      "<class 'pandas.core.frame.DataFrame'>\n",
      "Int64Index: 499 entries, 0 to 613\n",
      "Data columns (total 12 columns):\n",
      " #   Column              Non-Null Count  Dtype  \n",
      "---  ------              --------------  -----  \n",
      " 0   Gender              499 non-null    int64  \n",
      " 1   Married             499 non-null    int64  \n",
      " 2   Dependents          499 non-null    int64  \n",
      " 3   Education           499 non-null    int64  \n",
      " 4   Self_Employed       499 non-null    int64  \n",
      " 5   Applicant_Income    499 non-null    int64  \n",
      " 6   Coapplicant_Income  499 non-null    float64\n",
      " 7   Loan_Amount         499 non-null    int64  \n",
      " 8   Term                499 non-null    float64\n",
      " 9   Credit_History      499 non-null    float64\n",
      " 10  Area                499 non-null    int64  \n",
      " 11  Status              499 non-null    int64  \n",
      "dtypes: float64(3), int64(9)\n",
      "memory usage: 50.7 KB\n",
      "None\n",
      "\n",
      "\n",
      "DESCRIÇÃO DOS DADOS\n",
      "\n",
      "           Gender     Married  Dependents   Education  Self_Employed  \\\n",
      "count  499.000000  499.000000  499.000000  499.000000     499.000000   \n",
      "mean     0.176353    0.649299    0.779559    0.791583       0.138277   \n",
      "std      0.381502    0.477668    1.021605    0.406584       0.345536   \n",
      "min      0.000000    0.000000    0.000000    0.000000       0.000000   \n",
      "25%      0.000000    0.000000    0.000000    1.000000       0.000000   \n",
      "50%      0.000000    1.000000    0.000000    1.000000       0.000000   \n",
      "75%      0.000000    1.000000    2.000000    1.000000       0.000000   \n",
      "max      1.000000    1.000000    3.000000    1.000000       1.000000   \n",
      "\n",
      "       Applicant_Income  Coapplicant_Income   Loan_Amount        Term  \\\n",
      "count      4.990000e+02        4.990000e+02  4.990000e+02  499.000000   \n",
      "mean       5.336128e+05        1.566996e+05  1.395251e+07  342.012024   \n",
      "std        5.618157e+05        2.580955e+05  8.345237e+06   64.860368   \n",
      "min        1.500000e+04        0.000000e+00  0.000000e+00   36.000000   \n",
      "25%        2.885500e+05        0.000000e+00  9.800000e+06  360.000000   \n",
      "50%        3.859000e+05        1.086000e+05  1.260000e+07  360.000000   \n",
      "75%        5.825000e+05        2.251500e+05  1.665000e+07  360.000000   \n",
      "max        8.100000e+06        3.383700e+06  6.000000e+07  480.000000   \n",
      "\n",
      "       Credit_History        Area      Status  \n",
      "count      499.000000  499.000000  499.000000  \n",
      "mean         0.851703    1.100200    0.683367  \n",
      "std          0.355750    0.820165    0.465630  \n",
      "min          0.000000    0.000000    0.000000  \n",
      "25%          1.000000    0.000000    0.000000  \n",
      "50%          1.000000    1.000000    1.000000  \n",
      "75%          1.000000    2.000000    1.000000  \n",
      "max          1.000000    2.000000    1.000000  \n",
      "\n",
      "\n",
      "VALORES FALTANTES\n",
      "\n",
      "Gender                0\n",
      "Married               0\n",
      "Dependents            0\n",
      "Education             0\n",
      "Self_Employed         0\n",
      "Applicant_Income      0\n",
      "Coapplicant_Income    0\n",
      "Loan_Amount           0\n",
      "Term                  0\n",
      "Credit_History        0\n",
      "Area                  0\n",
      "Status                0\n",
      "dtype: int64\n",
      "\n",
      "\n"
     ]
    }
   ],
   "source": [
    "# Converte os atributos categóricos para numéricos\n",
    "    # get all categorical columns\n",
    "cat_columns = df.select_dtypes(['object']).columns\n",
    "\n",
    "    # convert all categorical columns to numeric\n",
    "df[cat_columns] = df[cat_columns].apply(lambda x: pd.factorize(x)[0])\n",
    "\n",
    "ShowInformationDataFrame(df,\"Dataframe numérico\")"
   ]
  },
  {
   "attachments": {},
   "cell_type": "markdown",
   "metadata": {},
   "source": [
    "### Balanceamento de dados"
   ]
  },
  {
   "cell_type": "code",
   "execution_count": 15,
   "metadata": {},
   "outputs": [],
   "source": [
    "from sklearn.model_selection import train_test_split\n",
    "from imblearn.over_sampling import SMOTE, ADASYN\n",
    "import matplotlib.pyplot as plt"
   ]
  },
  {
   "cell_type": "code",
   "execution_count": 17,
   "metadata": {},
   "outputs": [
    {
     "name": "stdout",
     "output_type": "stream",
     "text": [
      "Base default\n",
      " 1    341\n",
      "0    158\n",
      "Name: Status, dtype: int64\n",
      "Base balanceada\n",
      " 0    341\n",
      "1    341\n",
      "Name: Status, dtype: int64\n"
     ]
    },
    {
     "data": {
      "image/png": "[encoded data removed]",
      "text/plain": [
       "<Figure size 1500x1000 with 2 Axes>"
      ]
     },
     "metadata": {},
     "output_type": "display_data"
    }
   ],
   "source": [
    "x = df.drop(['Status'], axis=1)\n",
    "y = df['Status']\n",
    "\n",
    "# Synthetic Minority Oversampling Technique (SMOTE)\n",
    "x_os, y_os = SMOTE().fit_resample(x, y)\n",
    "# Adaptive Synthetic (ADASYN) sampling method\n",
    "# x_os, y_os = ADASYN().fit_resample(x, y)\n",
    "\n",
    "print('Base default\\n',y.value_counts())\n",
    "print('Base balanceada\\n',y_os.value_counts())\n",
    "\n",
    "fig, ax = plt.subplots(1, 2, figsize=(15, 10))\n",
    "\n",
    "y.value_counts().plot.pie(ax=ax[0], autopct='%.2f')\n",
    "y_os.value_counts().plot.pie(ax=ax[1], autopct='%.2f')\n",
    "\n",
    "plt.subplots_adjust(hspace = 1)\n",
    "\n",
    "for n in np.arange(0,2):\n",
    "    ax[n].set_ylabel('')\n",
    "    \n",
    "ax[0].set_title('Loan_train_dataset Padrão', fontweight='bold')\n",
    "ax[1].set_title('Loan_train_dataset Balaceada com SMOTE Oversample', fontweight='bold')\n",
    "\n",
    "plt.show()"
   ]
  },
  {
   "attachments": {},
   "cell_type": "markdown",
   "metadata": {},
   "source": [
    "---\n",
    "# Normalização e redução de dados"
   ]
  },
  {
   "attachments": {},
   "cell_type": "markdown",
   "metadata": {},
   "source": [
    "### Normalização de dados\n",
    "* Max-Min\n",
    "* Z-Score"
   ]
  },
  {
   "cell_type": "code",
   "execution_count": null,
   "metadata": {},
   "outputs": [],
   "source": []
  },
  {
   "attachments": {},
   "cell_type": "markdown",
   "metadata": {},
   "source": [
    "### Redução de dados (PCA)"
   ]
  },
  {
   "cell_type": "code",
   "execution_count": null,
   "metadata": {},
   "outputs": [],
   "source": []
  },
  {
   "attachments": {},
   "cell_type": "markdown",
   "metadata": {},
   "source": [
    "---\n",
    "# Análise descritiva de dados\n",
    "* Distribuição de frequência\n",
    "* Visualização de dados (Histograma, Gráfico de setores, dispersão, etc)\n",
    "* Medidas de resumo\n",
    "  * Medidas de tendência central\n",
    "  * Medidas de dispersão\n",
    "  * Medidas de posição relativa\n",
    "  * Medidas de associação"
   ]
  },
  {
   "cell_type": "code",
   "execution_count": null,
   "metadata": {},
   "outputs": [],
   "source": []
  },
  {
   "attachments": {},
   "cell_type": "markdown",
   "metadata": {},
   "source": [
    "---\n",
    "# Análise de grupos"
   ]
  },
  {
   "attachments": {},
   "cell_type": "markdown",
   "metadata": {},
   "source": [
    "### K-means\n",
    "* Variar número de grupos (parâmetro k)"
   ]
  },
  {
   "cell_type": "code",
   "execution_count": null,
   "metadata": {},
   "outputs": [],
   "source": []
  },
  {
   "attachments": {},
   "cell_type": "markdown",
   "metadata": {},
   "source": [
    "### GMM"
   ]
  },
  {
   "cell_type": "code",
   "execution_count": null,
   "metadata": {},
   "outputs": [],
   "source": []
  },
  {
   "attachments": {},
   "cell_type": "markdown",
   "metadata": {},
   "source": [
    "### Avaliação da qualidade dos agrupamentos\n",
    "* Coeficiente de forma\n",
    "* Homogeneidade"
   ]
  },
  {
   "cell_type": "code",
   "execution_count": null,
   "metadata": {},
   "outputs": [],
   "source": []
  },
  {
   "attachments": {},
   "cell_type": "markdown",
   "metadata": {},
   "source": [
    "---\n",
    "# Classificação\n",
    "* Divisão da base:\n",
    "  * Holdout (Treinamento 70% e Teste 30%)\n",
    "  * Cross-Validation (k=10)\n",
    "* Métricas:\n",
    "  * Matrix de confusão\n",
    "  * Acurácia\n",
    "  * F1 Score"
   ]
  },
  {
   "attachments": {},
   "cell_type": "markdown",
   "metadata": {},
   "source": [
    "### Árvore de Decisão (Decision Tree)"
   ]
  },
  {
   "cell_type": "code",
   "execution_count": null,
   "metadata": {},
   "outputs": [],
   "source": []
  },
  {
   "attachments": {},
   "cell_type": "markdown",
   "metadata": {},
   "source": [
    "### KNN (K-Mearest Neighbors)\n",
    "* Encontrar o parâmetro k com melhor resultado"
   ]
  },
  {
   "cell_type": "code",
   "execution_count": null,
   "metadata": {},
   "outputs": [],
   "source": []
  },
  {
   "attachments": {},
   "cell_type": "markdown",
   "metadata": {},
   "source": [
    "### SVM (Support Vectors Machine)"
   ]
  },
  {
   "cell_type": "code",
   "execution_count": null,
   "metadata": {},
   "outputs": [],
   "source": []
  },
  {
   "attachments": {},
   "cell_type": "markdown",
   "metadata": {},
   "source": [
    "### Rede Neural MLP (Multilayer Perceptron)\n",
    "* Arquitetura da rede:\n",
    "  * Número de neurônios\n",
    "  * Camadas escondidas\n",
    "  * Tipo de função de ativação"
   ]
  },
  {
   "cell_type": "code",
   "execution_count": null,
   "metadata": {},
   "outputs": [],
   "source": []
  },
  {
   "attachments": {},
   "cell_type": "markdown",
   "metadata": {},
   "source": [
    "### Comparação final dos classificadores"
   ]
  },
  {
   "cell_type": "code",
   "execution_count": null,
   "metadata": {},
   "outputs": [],
   "source": []
  }
 ],
 "metadata": {
  "kernelspec": {
   "display_name": "Python 3",
   "language": "python",
   "name": "python3"
  },
  "language_info": {
   "codemirror_mode": {
    "name": "ipython",
    "version": 3
   },
   "file_extension": ".py",
   "mimetype": "text/x-python",
   "name": "python",
   "nbconvert_exporter": "python",
   "pygments_lexer": "ipython3",
   "version": "3.10.5"
  },
  "orig_nbformat": 4
 },
 "nbformat": 4,
 "nbformat_minor": 2
}
